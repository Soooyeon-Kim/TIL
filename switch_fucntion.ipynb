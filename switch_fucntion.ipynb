{
 "cells": [
  {
   "cell_type": "code",
   "execution_count": 1,
   "id": "64c68158",
   "metadata": {},
   "outputs": [
    {
     "name": "stdout",
     "output_type": "stream",
     "text": [
      "침실입니다.\n"
     ]
    }
   ],
   "source": [
    "# startswitch() 함수\n",
    "# 문자열의 접두사를 찾을 때 사용\n",
    "# 슬라이싱을 이용하는 대신 인덱스를 지정하지 않고 오류 발생 가능성이 낮다\n",
    "\n",
    "room = \"bedroom\"\n",
    "\n",
    "if room.startswith('bath'):\n",
    "    print(\"욕실입니다.\")\n",
    "elif room.startswith('bed'):\n",
    "    print(\"침실입니다.\")\n",
    "elif room.startswith('living'):\n",
    "    print(\"거실입니다.\")\n",
    "\n",
    "# 접미사를 찾기 위해서는 endswith() 함수를 이용"
   ]
  }
 ],
 "metadata": {
  "kernelspec": {
   "display_name": "Python 3",
   "language": "python",
   "name": "python3"
  },
  "language_info": {
   "codemirror_mode": {
    "name": "ipython",
    "version": 3
   },
   "file_extension": ".py",
   "mimetype": "text/x-python",
   "name": "python",
   "nbconvert_exporter": "python",
   "pygments_lexer": "ipython3",
   "version": "3.8.8"
  }
 },
 "nbformat": 4,
 "nbformat_minor": 5
}
