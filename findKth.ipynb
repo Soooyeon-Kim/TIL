{
 "cells": [
  {
   "cell_type": "markdown",
   "metadata": {},
   "source": [
    "## k번째 수 찾기\n",
    "nn개의 숫자가 차례대로 주어질 때, 매 순간마다 “지금까지 입력된 숫자들 중에서 k번째로 작은 수”를 반환하는 프로그램을 작성하세요.\n",
    "\n",
    "프로그램의 입력으로는 첫째줄에 nn과 kk가 입력되고, 둘째줄에 nn개의 숫자가 차례대로 주어집니다."
   ]
  },
  {
   "cell_type": "markdown",
   "metadata": {},
   "source": [
    "#### 문제 조건\n",
    "* nn은 100보다 작은 숫자입니다.\n",
    "* 매 순간마다 지금까지의 입력중 kk번째로 작은 수를 출력하되, 없다면 -1을 출력합니다."
   ]
  },
  {
   "cell_type": "code",
   "execution_count": 7,
   "metadata": {},
   "outputs": [
    {
     "name": "stdout",
     "output_type": "stream",
     "text": [
      "10 3\n",
      "1 9 8 5 2 3 5 6 2 10\n",
      "-1 -1 9 8 5 3 3 3 2 2\n"
     ]
    }
   ],
   "source": [
    "def findKth(myInput, k) :\n",
    "\n",
    "    numList = []\n",
    "    result = []\n",
    "\n",
    "    for i in myInput:\n",
    "        numList.append(i)\n",
    "        numList.sort()\n",
    "\n",
    "        if len(numList) <k:\n",
    "            result.append(-1)\n",
    "        else:\n",
    "            result.append(numList[k-1])\n",
    "\n",
    "\n",
    "    return result\n",
    "\n",
    "def main():\n",
    "    firstLine = [int(x) for x in input().split()]\n",
    "    myInput = [int(x) for x in input().split()]\n",
    "\n",
    "    print(*findKth(myInput, firstLine[1]))\n",
    "    \n",
    "if __name__ == \"__main__\":\n",
    "    main()"
   ]
  }
 ],
 "metadata": {
  "kernelspec": {
   "display_name": "Python 3",
   "language": "python",
   "name": "python3"
  },
  "language_info": {
   "codemirror_mode": {
    "name": "ipython",
    "version": 3
   },
   "file_extension": ".py",
   "mimetype": "text/x-python",
   "name": "python",
   "nbconvert_exporter": "python",
   "pygments_lexer": "ipython3",
   "version": "3.8.8"
  }
 },
 "nbformat": 4,
 "nbformat_minor": 4
}
