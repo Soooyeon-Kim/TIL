{
 "cells": [
  {
   "cell_type": "markdown",
   "id": "17a377a0",
   "metadata": {},
   "source": [
    "## 1. 시퀀스 활용하기"
   ]
  },
  {
   "cell_type": "markdown",
   "id": "6a4362ed",
   "metadata": {},
   "source": [
    "## Point I\n",
    "list.pop(i) : 인덱스 i의 원소를 제거 후 반환"
   ]
  },
  {
   "cell_type": "code",
   "execution_count": 1,
   "id": "bfced294",
   "metadata": {},
   "outputs": [
    {
     "name": "stdout",
     "output_type": "stream",
     "text": [
      "[2, 3, 4, 5]\n",
      "1\n"
     ]
    }
   ],
   "source": [
    "lst = [1, 2, 3, 4, 5]\n",
    "box = lst.pop(0) # lst에서 1을 제거 후 반환, 이 경우에는 변수 box에 대입\n",
    "print(lst) \n",
    "# [2, 3, 4, 5]\n",
    "\n",
    "print(box)\n",
    "# 1 "
   ]
  },
  {
   "cell_type": "markdown",
   "id": "68b137fe",
   "metadata": {},
   "source": [
    "## Point II\n",
    "seq.count(d) : 시퀀스 내부의 자료 d의 개수를 반환"
   ]
  },
  {
   "cell_type": "code",
   "execution_count": 4,
   "id": "8ab9f615",
   "metadata": {},
   "outputs": [
    {
     "name": "stdout",
     "output_type": "stream",
     "text": [
      "2\n"
     ]
    },
    {
     "data": {
      "text/plain": [
       "2"
      ]
     },
     "execution_count": 4,
     "metadata": {},
     "output_type": "execute_result"
    }
   ],
   "source": [
    "carrot = \"Hi Rabbit!\"\n",
    "print(carrot.count(\"i\"))\n",
    "\n",
    "## 실행 결과 ##\n",
    "2"
   ]
  },
  {
   "cell_type": "markdown",
   "id": "e88c7c6f",
   "metadata": {},
   "source": [
    "## Point III\n",
    "* list.pop(i) : 인덱스 i의 원소를 제거 후 반환\n",
    "* str.split(c) : 문자열 c를 기준으로 문자열 str을 쪼개서 리스트를 반환"
   ]
  },
  {
   "cell_type": "code",
   "execution_count": 6,
   "id": "c193d471",
   "metadata": {},
   "outputs": [
    {
     "name": "stdout",
     "output_type": "stream",
     "text": [
      "['나', '너', '우리']\n"
     ]
    }
   ],
   "source": [
    "ours = \"나,너,우리\"\n",
    "print(ours.split(\",\"))\n",
    "# ['나', '너', '우리']"
   ]
  },
  {
   "cell_type": "markdown",
   "id": "0de25c93",
   "metadata": {},
   "source": [
    "## Point IV\n",
    "str.join(list) : str을 기준으로 list를 합쳐서 문자열을 반환"
   ]
  },
  {
   "cell_type": "code",
   "execution_count": 8,
   "id": "93fcd6e4",
   "metadata": {},
   "outputs": [
    {
     "name": "stdout",
     "output_type": "stream",
     "text": [
      "americano\n"
     ]
    }
   ],
   "source": [
    "coffee = ['a', 'm', 'e', 'r', 'i', 'c', 'a', 'n', 'o']\n",
    "print(\"\".join(coffee)) # 빈 문자열(\"\")을 기준으로 합치기\n",
    "# americano"
   ]
  },
  {
   "cell_type": "markdown",
   "id": "e6d49fc7",
   "metadata": {},
   "source": [
    "## 2. Tuple(튜플)"
   ]
  },
  {
   "cell_type": "markdown",
   "id": "bf816b2c",
   "metadata": {},
   "source": [
    "## Point I\n",
    "여러 자료를 담을 수 있으면서, 변하지 않는 자료형\n",
    "\n",
    "## Point II\n",
    "() - 소괄호로 묶어 표현"
   ]
  },
  {
   "cell_type": "code",
   "execution_count": 11,
   "id": "fd8476e1",
   "metadata": {},
   "outputs": [],
   "source": [
    "tup = (1, 2, 3, 4, 5)"
   ]
  },
  {
   "cell_type": "markdown",
   "id": "80d8d7c3",
   "metadata": {},
   "source": [
    "## Point III\n",
    "원소가 하나라면 반드시 원소 뒤에 ,을 적어주어야함"
   ]
  },
  {
   "cell_type": "code",
   "execution_count": 13,
   "id": "f4c270d7",
   "metadata": {},
   "outputs": [],
   "source": [
    "tup_one = (1,)"
   ]
  },
  {
   "cell_type": "markdown",
   "id": "1d54c397",
   "metadata": {},
   "source": [
    "## Point IV\n",
    "시퀀스 자료형의 성질을 지님"
   ]
  },
  {
   "cell_type": "code",
   "execution_count": 15,
   "id": "7c869845",
   "metadata": {},
   "outputs": [
    {
     "name": "stdout",
     "output_type": "stream",
     "text": [
      "a\n",
      "('a', 't')\n",
      "False\n",
      "3\n",
      "('c', 'a', 't', 'e', 'g', 'o', 'r', 'y')\n",
      "('c', 'a', 't', 'c', 'a', 't', 'c', 'a', 't')\n"
     ]
    }
   ],
   "source": [
    "cute = ('c', 'a', 't')\n",
    "print(cute[1])  #인덱싱\n",
    "#'a'\n",
    "\n",
    "print(cute[1:]) #슬라이싱\n",
    "#('a', 't')\n",
    "\n",
    "print('e' in cute) #in연산자\n",
    "#False\n",
    "\n",
    "print(len(cute)) #len연산자\n",
    "#3\n",
    "\n",
    "print(cute + ('e', 'g', 'o', 'r', 'y')) #연결연산\n",
    "#('c', 'a', 't', 'e', 'g', 'o', 'r', 'y')\n",
    "\n",
    "print(cute * 3) #반복연산\n",
    "#('c', 'a', 't', 'c', 'a', 't', 'c', 'a', 't')"
   ]
  },
  {
   "cell_type": "markdown",
   "id": "47226ea0",
   "metadata": {},
   "source": [
    "## Point V\n",
    "자료를 추가, 삭제, 변경할 수 없다!"
   ]
  },
  {
   "cell_type": "code",
   "execution_count": 29,
   "id": "32c4af4e",
   "metadata": {},
   "outputs": [
    {
     "data": {
      "text/plain": [
       "('ant', 'man')"
      ]
     },
     "execution_count": 29,
     "metadata": {},
     "output_type": "execute_result"
    }
   ],
   "source": [
    "hero = (\"ant\", \"man\")\n",
    "\"\"\"\n",
    "hero.append(\"wasp\") #Error\n",
    "hero.remove(\"man\") #Error\n",
    "hero[0] = \"iron\" #Error \n",
    "\"\"\"\n",
    "hero"
   ]
  },
  {
   "cell_type": "markdown",
   "id": "1b008f40",
   "metadata": {},
   "source": [
    "## 3. Dictionary(사전형)"
   ]
  },
  {
   "cell_type": "markdown",
   "id": "a3aecd7a",
   "metadata": {},
   "source": [
    "## Point I\n",
    "짝꿍(Key → Value)이 있는 자료형\n",
    "\n",
    "## Point II\n",
    "{} - 중괄호로 묶어서 표현"
   ]
  },
  {
   "cell_type": "code",
   "execution_count": 20,
   "id": "02d902a2",
   "metadata": {},
   "outputs": [],
   "source": [
    "hp = {\"gildong\" : \"010-1234-5678\"}"
   ]
  },
  {
   "cell_type": "markdown",
   "id": "b9ca16b8",
   "metadata": {},
   "source": [
    "## Point III\n",
    "key를 알면 value를 알 수 있다."
   ]
  },
  {
   "cell_type": "code",
   "execution_count": 22,
   "id": "67aeefd3",
   "metadata": {},
   "outputs": [
    {
     "name": "stdout",
     "output_type": "stream",
     "text": [
      "사과\n"
     ]
    }
   ],
   "source": [
    "dic = {\"apple\":\"사과\", \"banana\":\"바나나\"}\n",
    "print(dic[\"apple\"])\n",
    "# 사과"
   ]
  },
  {
   "cell_type": "markdown",
   "id": "a716d45d",
   "metadata": {},
   "source": [
    "## Point IV\n",
    "* del 키워드로 Dictionary의 원소 삭제\n",
    "* 리스트의 원소를 삭제하는 것도 가능!"
   ]
  },
  {
   "cell_type": "code",
   "execution_count": 24,
   "id": "fa4da723",
   "metadata": {},
   "outputs": [
    {
     "name": "stdout",
     "output_type": "stream",
     "text": [
      "{'banana': '바나나'}\n"
     ]
    }
   ],
   "source": [
    "dic = {\"apple\":\"사과\", \"banana\":\"바나나\"}\n",
    "del dic[\"apple\"]\n",
    "print(dic)\n",
    "# {\"banana\":\"바나나\"}"
   ]
  },
  {
   "cell_type": "markdown",
   "id": "f5caf83a",
   "metadata": {},
   "source": [
    "## Point V\n",
    "Key는 변할 수 없는 자료형이여야 한다"
   ]
  },
  {
   "cell_type": "code",
   "execution_count": 28,
   "id": "344cfdc5",
   "metadata": {},
   "outputs": [
    {
     "data": {
      "text/plain": [
       "{(2, 4, 6): 'even'}"
      ]
     },
     "execution_count": 28,
     "metadata": {},
     "output_type": "execute_result"
    }
   ],
   "source": [
    "#Error dic = {[1, 3, 5]:\"odd\"}\n",
    "dic = {(2, 4, 6):\"even\"} \n",
    "dic"
   ]
  }
 ],
 "metadata": {
  "kernelspec": {
   "display_name": "Python 3",
   "language": "python",
   "name": "python3"
  },
  "language_info": {
   "codemirror_mode": {
    "name": "ipython",
    "version": 3
   },
   "file_extension": ".py",
   "mimetype": "text/x-python",
   "name": "python",
   "nbconvert_exporter": "python",
   "pygments_lexer": "ipython3",
   "version": "3.8.8"
  }
 },
 "nbformat": 4,
 "nbformat_minor": 5
}
