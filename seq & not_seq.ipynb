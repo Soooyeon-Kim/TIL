{
 "cells": [
  {
   "cell_type": "markdown",
   "id": "d59c41d3",
   "metadata": {},
   "source": [
    "### 빈 시퀀스 찾기\n",
    "### 시퀀스 자료형은 값이 들어있으면 참, 값이 들어있지 않으면 거짓을 반환\n",
    "### len() 함수를 이용해서 반환되는 길이로 시퀀스 자료형이 비어있는지 확인할 필요가 없음"
   ]
  },
  {
   "cell_type": "code",
   "execution_count": null,
   "id": "70a7f163",
   "metadata": {},
   "outputs": [],
   "source": [
    "# 잘못된 예시\n",
    "if len(seq):\n",
    "if not len(seq):"
   ]
  },
  {
   "cell_type": "code",
   "execution_count": null,
   "id": "4dba330c",
   "metadata": {},
   "outputs": [],
   "source": [
    "# 올바른 예시\n",
    "if seq:\n",
    "if not seq:"
   ]
  },
  {
   "cell_type": "code",
   "execution_count": 1,
   "id": "9e96eba0",
   "metadata": {},
   "outputs": [
    {
     "name": "stdout",
     "output_type": "stream",
     "text": [
      "튜플에 값이 들어있지 않습니다.\n"
     ]
    }
   ],
   "source": [
    "my_tuple = ()\n",
    "\n",
    "if not my_tuple:\n",
    "    print(\"튜플에 값이 들어있지 않습니다.\")\n",
    "else:\n",
    "    print(\"튜플에 값이 들어있습니다.\")"
   ]
  }
 ],
 "metadata": {
  "kernelspec": {
   "display_name": "Python 3",
   "language": "python",
   "name": "python3"
  },
  "language_info": {
   "codemirror_mode": {
    "name": "ipython",
    "version": 3
   },
   "file_extension": ".py",
   "mimetype": "text/x-python",
   "name": "python",
   "nbconvert_exporter": "python",
   "pygments_lexer": "ipython3",
   "version": "3.8.8"
  }
 },
 "nbformat": 4,
 "nbformat_minor": 5
}
