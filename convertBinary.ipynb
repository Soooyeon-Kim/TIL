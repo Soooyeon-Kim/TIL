{
 "cells": [
  {
   "cell_type": "markdown",
   "id": "33e85950",
   "metadata": {},
   "source": [
    "### 이진수 변환\n",
    "10진수를 2진수로 변환하여 출력하는 프로그램을 작성"
   ]
  },
  {
   "cell_type": "markdown",
   "id": "a37859ae",
   "metadata": {},
   "source": [
    "\n",
    "\n",
    "    *주의* : 변환된 2진수는 문자열이어야 합니다.\n",
    "\n",
    "예를 들어, 19가 입력될 경우 문자열 \"10011\"이 반환되어야 합니다."
   ]
  },
  {
   "cell_type": "code",
   "execution_count": 3,
   "id": "a825d799",
   "metadata": {},
   "outputs": [
    {
     "name": "stdout",
     "output_type": "stream",
     "text": [
      "19\n",
      "10011\n"
     ]
    }
   ],
   "source": [
    "import sys\n",
    "sys.setrecursionlimit(100000)\n",
    "\n",
    "def convertBinary(n) :\n",
    "    binary = bin(n)\n",
    "    \n",
    "    return binary[2:]\n",
    "\n",
    "def main():\n",
    "    n = int(input())\n",
    "\n",
    "    print(convertBinary(n))\n",
    "\n",
    "if __name__ == \"__main__\":\n",
    "    main()"
   ]
  }
 ],
 "metadata": {
  "kernelspec": {
   "display_name": "Python 3",
   "language": "python",
   "name": "python3"
  },
  "language_info": {
   "codemirror_mode": {
    "name": "ipython",
    "version": 3
   },
   "file_extension": ".py",
   "mimetype": "text/x-python",
   "name": "python",
   "nbconvert_exporter": "python",
   "pygments_lexer": "ipython3",
   "version": "3.8.8"
  }
 },
 "nbformat": 4,
 "nbformat_minor": 5
}
